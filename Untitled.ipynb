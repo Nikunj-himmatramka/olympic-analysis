{
 "cells": [
  {
   "cell_type": "code",
   "execution_count": 2,
   "metadata": {},
   "outputs": [],
   "source": [
    "import pandas as pd"
   ]
  },
  {
   "cell_type": "code",
   "execution_count": 3,
   "metadata": {},
   "outputs": [],
   "source": [
    "df = pd.read_csv(\"summer.csv\")"
   ]
  },
  {
   "cell_type": "code",
   "execution_count": 26,
   "metadata": {},
   "outputs": [
    {
     "data": {
      "text/plain": [
       "Year          0\n",
       "City          0\n",
       "Sport         0\n",
       "Discipline    0\n",
       "Athlete       0\n",
       "Country       4\n",
       "Gender        0\n",
       "Event         0\n",
       "Medal         0\n",
       "dtype: int64"
      ]
     },
     "execution_count": 26,
     "metadata": {},
     "output_type": "execute_result"
    }
   ],
   "source": [
    "df.isnull().sum()"
   ]
  },
  {
   "cell_type": "code",
   "execution_count": 32,
   "metadata": {},
   "outputs": [
    {
     "data": {
      "text/plain": [
       "array(['HUN', 'AUT', 'GRE', 'USA', 'GER', 'GBR', 'FRA', 'AUS', 'DEN',\n",
       "       'SUI', 'ZZX', 'NED', 'BEL', 'IND', 'CAN', 'BOH', 'SWE', 'NOR',\n",
       "       'ESP', 'ITA', 'CUB', 'ANZ', 'RSA', 'FIN', 'RU1', 'EST', 'TCH',\n",
       "       'NZL', 'BRA', 'JPN', 'LUX', 'ARG', 'POL', 'POR', 'URU', 'YUG',\n",
       "       'ROU', 'HAI', 'EGY', 'PHI', 'IRL', 'CHI', 'LAT', 'MEX', 'TUR',\n",
       "       'PAN', 'JAM', 'SRI', 'KOR', 'PUR', 'PER', 'IRI', 'TRI', 'URS',\n",
       "       'VEN', 'BUL', 'LIB', 'EUA', 'ISL', 'PAK', 'BAH', 'BWI', 'TPE',\n",
       "       'ETH', 'MAR', 'GHA', 'IRQ', 'SIN', 'TUN', 'KEN', 'NGR', 'GDR',\n",
       "       'FRG', 'UGA', 'CMR', 'MGL', 'PRK', 'COL', 'NIG', 'THA', 'BER',\n",
       "       'TAN', 'GUY', 'ZIM', 'CHN', 'CIV', 'ZAM', 'DOM', 'ALG', 'SYR',\n",
       "       'SUR', 'CRC', 'INA', 'SEN', 'DJI', 'AHO', 'ISV', 'EUN', 'NAM',\n",
       "       'QAT', 'LTU', 'MAS', 'CRO', 'ISR', 'SLO', 'IOP', 'RUS', 'UKR',\n",
       "       'ECU', 'BDI', 'MOZ', 'CZE', 'BLR', 'TGA', 'KAZ', 'UZB', 'SVK',\n",
       "       'MDA', 'GEO', 'HKG', 'ARM', 'AZE', 'BAR', 'KSA', 'KGZ', 'KUW',\n",
       "       'VIE', 'MKD', 'SCG', 'ERI', 'PAR', 'UAE', 'SRB', 'SUD', 'MRI',\n",
       "       'TOG', 'TJK', 'AFG', nan, 'BRN', 'GUA', 'GRN', 'TTO', 'BOT', 'MNE',\n",
       "       'CYP', 'SGP', 'GAB'], dtype=object)"
      ]
     },
     "execution_count": 32,
     "metadata": {},
     "output_type": "execute_result"
    }
   ],
   "source": [
    "df[\"Country\"].unique()"
   ]
  },
  {
   "cell_type": "code",
   "execution_count": 33,
   "metadata": {},
   "outputs": [
    {
     "data": {
      "text/plain": [
       "148"
      ]
     },
     "execution_count": 33,
     "metadata": {},
     "output_type": "execute_result"
    }
   ],
   "source": [
    "len(df[\"Country\"].unique())"
   ]
  },
  {
   "cell_type": "code",
   "execution_count": 34,
   "metadata": {},
   "outputs": [
    {
     "data": {
      "text/plain": [
       "array([1896, 1900, 1904, 1908, 1912, 1920, 1924, 1928, 1932, 1936, 1948,\n",
       "       1952, 1956, 1960, 1964, 1968, 1972, 1976, 1980, 1984, 1988, 1992,\n",
       "       1996, 2000, 2004, 2008, 2012], dtype=int64)"
      ]
     },
     "execution_count": 34,
     "metadata": {},
     "output_type": "execute_result"
    }
   ],
   "source": [
    "df[\"Year\"].unique()"
   ]
  },
  {
   "cell_type": "code",
   "execution_count": 35,
   "metadata": {},
   "outputs": [
    {
     "data": {
      "text/plain": [
       "27"
      ]
     },
     "execution_count": 35,
     "metadata": {},
     "output_type": "execute_result"
    }
   ],
   "source": [
    "len(df[\"Year\"].unique())"
   ]
  },
  {
   "cell_type": "code",
   "execution_count": 38,
   "metadata": {},
   "outputs": [
    {
     "data": {
      "text/plain": [
       "array(['Athens', 'Paris', 'St Louis', 'London', 'Stockholm', 'Antwerp',\n",
       "       'Amsterdam', 'Los Angeles', 'Berlin', 'Helsinki',\n",
       "       'Melbourne / Stockholm', 'Rome', 'Tokyo', 'Mexico', 'Munich',\n",
       "       'Montreal', 'Moscow', 'Seoul', 'Barcelona', 'Atlanta', 'Sydney',\n",
       "       'Beijing'], dtype=object)"
      ]
     },
     "execution_count": 38,
     "metadata": {},
     "output_type": "execute_result"
    }
   ],
   "source": [
    "df[\"City\"].unique()"
   ]
  },
  {
   "cell_type": "code",
   "execution_count": 39,
   "metadata": {},
   "outputs": [
    {
     "data": {
      "text/plain": [
       "22"
      ]
     },
     "execution_count": 39,
     "metadata": {},
     "output_type": "execute_result"
    }
   ],
   "source": [
    "len(df[\"City\"].unique())"
   ]
  },
  {
   "cell_type": "code",
   "execution_count": 40,
   "metadata": {},
   "outputs": [
    {
     "data": {
      "text/plain": [
       "array(['Aquatics', 'Athletics', 'Cycling', 'Fencing', 'Gymnastics',\n",
       "       'Shooting', 'Tennis', 'Weightlifting', 'Wrestling', 'Archery',\n",
       "       'Basque Pelota', 'Cricket', 'Croquet', 'Equestrian', 'Football',\n",
       "       'Golf', 'Polo', 'Rowing', 'Rugby', 'Sailing', 'Tug of War',\n",
       "       'Boxing', 'Lacrosse', 'Roque', 'Hockey', 'Jeu de paume', 'Rackets',\n",
       "       'Skating', 'Water Motorsports', 'Modern Pentathlon', 'Ice Hockey',\n",
       "       'Basketball', 'Canoe / Kayak', 'Handball', 'Judo', 'Volleyball',\n",
       "       'Table Tennis', 'Badminton', 'Baseball', 'Softball', 'Taekwondo',\n",
       "       'Triathlon', 'Canoe'], dtype=object)"
      ]
     },
     "execution_count": 40,
     "metadata": {},
     "output_type": "execute_result"
    }
   ],
   "source": [
    "df[\"Sport\"].unique()"
   ]
  },
  {
   "cell_type": "code",
   "execution_count": 41,
   "metadata": {},
   "outputs": [
    {
     "data": {
      "text/plain": [
       "43"
      ]
     },
     "execution_count": 41,
     "metadata": {},
     "output_type": "execute_result"
    }
   ],
   "source": [
    "len(df[\"Sport\"].unique())"
   ]
  },
  {
   "cell_type": "code",
   "execution_count": 42,
   "metadata": {},
   "outputs": [
    {
     "data": {
      "text/plain": [
       "array(['Swimming', 'Athletics', 'Cycling Road', 'Cycling Track',\n",
       "       'Fencing', 'Artistic G.', 'Shooting', 'Tennis', 'Weightlifting',\n",
       "       'Wrestling Gre-R', 'Water polo', 'Archery', 'Basque Pelota',\n",
       "       'Cricket', 'Croquet', 'Jumping', 'Football', 'Golf', 'Polo',\n",
       "       'Rowing', 'Rugby', 'Sailing', 'Tug of War', 'Diving', 'Boxing',\n",
       "       'Lacrosse', 'Roque', 'Wrestling Free.', 'Hockey', 'Jeu de Paume',\n",
       "       'Rackets', 'Figure skating', 'Water Motorspor', 'Dressage',\n",
       "       'Eventing', 'Modern Pentath.', 'Vaulting', 'Ice Hockey',\n",
       "       'Basketball', 'Canoe / Kayak F', 'Handball', 'Judo', 'Volleyball',\n",
       "       'Canoe / Kayak S', 'Synchronized S.', 'Rhythmic G.',\n",
       "       'Table Tennis', 'Badminton', 'Baseball', 'Mountain Bike',\n",
       "       'Softball', 'Beach volley.', 'Trampoline', 'Taekwondo',\n",
       "       'Triathlon', 'BMX', 'Marathon swimming', 'Synchronized Swimming',\n",
       "       'Water Polo', 'Canoe Slalom', 'Canoe Sprint', 'Cycling BMX',\n",
       "       'Gymnastics Artistic', 'Gymnastics Rhythmic', 'Modern Pentathlon',\n",
       "       'Beach Volleyball', 'Wrestling Freestyle'], dtype=object)"
      ]
     },
     "execution_count": 42,
     "metadata": {},
     "output_type": "execute_result"
    }
   ],
   "source": [
    "df[\"Discipline\"].unique()"
   ]
  },
  {
   "cell_type": "code",
   "execution_count": 43,
   "metadata": {},
   "outputs": [
    {
     "data": {
      "text/plain": [
       "67"
      ]
     },
     "execution_count": 43,
     "metadata": {},
     "output_type": "execute_result"
    }
   ],
   "source": [
    "len(df[\"Discipline\"].unique())"
   ]
  },
  {
   "cell_type": "code",
   "execution_count": 44,
   "metadata": {},
   "outputs": [
    {
     "data": {
      "text/plain": [
       "array(['100M Freestyle', '100M Freestyle For Sailors', '1200M Freestyle',\n",
       "       '400M Freestyle', '100M', '110M Hurdles', '1500M', '400M', '800M',\n",
       "       'Discus Throw', 'High Jump', 'Long Jump', 'Marathon', 'Pole Vault',\n",
       "       'Shot Put', 'Triple Jump', 'Individual Road Race', '100KM', '10KM',\n",
       "       '12-Hour Race', '1KM Time Trial', 'Sprint Indivual',\n",
       "       'Foil Individual', 'Foil, Masters', 'Sabre Individual',\n",
       "       'Horizontal Bar', 'Parallel Bars', 'Pommel Horse', 'Rings',\n",
       "       'Rope Climbing', 'Team, Horizontal Bar', 'Team, Parallel Bars',\n",
       "       'Vault', '25M Army Pistol', '25M Rapid Fire Pistol (60 Shots)',\n",
       "       '50M Pistol (60 Shots)', 'Army Rifle, 200M', 'Army Rifle, 300M',\n",
       "       'Doubles', 'Singles', 'Heavyweight - One Hand Lift',\n",
       "       'Heavyweight - Two Hand Lift', 'Open Event', '1500M Freestyle',\n",
       "       '200M Backstroke', '200M Freestyle', '200M Obstacle Event',\n",
       "       '200M Team Swimming', '4000M Freestyle', 'Underwater Swimming',\n",
       "       'Water Polo', 'Au Chapelet, 33M', 'Au Chapelet, 50M',\n",
       "       'Au Cordon Doré, 33M', 'Au Cordon Doré, 50M',\n",
       "       'Sur La Perche À La Herse', 'Sur La Perche À La Pyramide', '200M',\n",
       "       '200M Hurdles', '3000M Steeplechase', '4000M Steeplechase',\n",
       "       '400M Hurdles', '5000M Team', '60M', 'Hammer Throw',\n",
       "       'High Jump, Standing', 'Long Jump, Standing',\n",
       "       'Triple Jump, Standing', 'Cesta Punta', 'Cricket', 'Double',\n",
       "       'Individual 1 Ball', 'Individual 2 Balls', '25 Kilometres',\n",
       "       'Individual', 'Long Jump Individual', 'Épée Individual',\n",
       "       'Épée, Amateurs And Masters', 'Épée, Masters', 'Sabre, Masters',\n",
       "       'Football', 'Individual All-Round', 'Polo',\n",
       "       'Eight With Coxswain (8+)', 'Four-Oared Shell With Coxswain (4-)',\n",
       "       'Pair-Oared Shell With Coxswain (2+)', 'Single Sculls (1X)',\n",
       "       'Rugby', '0.5-1T', '10-20T', '3-10T', 'Open Class',\n",
       "       '50M Army Pistol, Team', 'Army Rifle, 300M, 3 Positions',\n",
       "       'Army Rifle, 300M, Kneeling', 'Army Rifle, 300M, Prone',\n",
       "       'Army Rifle, 300M, Standing', 'Free Rifle, Team',\n",
       "       'Trap (125 Targets)', 'Mixed Doubles', 'Tug Of War',\n",
       "       '10M Platform', 'Plunge For Distance', '100M Backstroke',\n",
       "       '400M Breaststroke', '4X50Y Freestyle Relay',\n",
       "       '50Y Freestyle (45.72M)', '880Y Freestyle (804.66M)',\n",
       "       'Double American Round (60Y - 50Y - 40Y)',\n",
       "       'Double Columbia Round (50Y - 40Y - 30Y)',\n",
       "       'Double National Round (60Y - 50Y)',\n",
       "       'Double York Round (100Y - 80Y - 60Y)', 'Team Round 60Y',\n",
       "       'Teams Fita Round', '4Miles Team', '56LB Weight Throw (25.4KG)',\n",
       "       'Decathlon', 'Triathlon (Long Jump / Shot Put / 100 Yards)',\n",
       "       '- 47.63KG (Flyweight)', '+ 71.67KG (Heavyweight)',\n",
       "       '47.63 - 52.16KG (Bantamweight)', '52.16 - 56.7KG (Featherweight)',\n",
       "       '56.7 - 61.24KG (Lightweight)', '61.24 - 65.77KG (Welterweight)',\n",
       "       '65.77 - 71.67KG (Middleweight)', '1 Mile (1609.3M)',\n",
       "       '1/2 Mile (804.7M)', '1/3 Mile (536.5M)', '1/4 Mile (402.3M)',\n",
       "       '2 Miles (3.218KM)', '25 Miles (40.232KM)', '5 Miles (8.046KM)',\n",
       "       'Foil Team', 'Stick, Single', 'Team', 'Club Swinging',\n",
       "       'Combined 3 Events', 'Combined 4 Events', 'Team Competition',\n",
       "       'Lacrosse', 'Coxless Pair (2-)', 'Double Sculls (2X)',\n",
       "       'Four Without Coxswain (4-)', 'All-Around Dumbbell Contest',\n",
       "       '- 47.6KG (Light-Flyweight)', '47.6 - 52.16KG (Flyweight)',\n",
       "       '52.16 - 56.7KG (Bantamweight)', '56.7 - 61.23KG (Featherweight)',\n",
       "       '61.23 - 65.77KG (Lightweight)', '65.77 - 71.67KG (Welterweight)',\n",
       "       '3M Springboard', '200M Breaststroke', '4X200M Freestyle Relay',\n",
       "       'Continental Style 50M', 'National Round (60Y - 50Y)',\n",
       "       'York Round (100Y - 80Y - 60Y)', '10Miles Walk (16093M)',\n",
       "       '3200M Steeplechase', '3500M Walk', '3Miles Team (4828M)',\n",
       "       '4X400M Relay', '5 Miles (8047M)', 'Discus Throw Ancient Style',\n",
       "       'Javelin Throw', 'Javelin Throw Freestyle',\n",
       "       '- 52.62KG (Bantamweight)', '52.62 - 57.15KG (Featherweight)',\n",
       "       '57.15 - 63.5KG (Lightweight)', '63.5 - 71.67KG (Middleweight)',\n",
       "       '1980 Yards Pursuit, Team', '2000M Tandem', '20KM', '5000M',\n",
       "       'One Lap (660Y) Sprint', 'Épée Team', 'Sabre Team', 'Hockey',\n",
       "       '12M', '6M', '7M', '8M', '1000Y Free Rifle, Prone',\n",
       "       '100M Running Deer, Double Shots',\n",
       "       '100M Running Deer, Single Shots',\n",
       "       '100M Running Deer, Single Shots, Team',\n",
       "       '25Y Small Bore Rifle, Disappearing Target',\n",
       "       '25Y Small Bore Rifle, Moving Target',\n",
       "       '300M Free Rifle 3 Positions (3X40 Shots)',\n",
       "       '50+100Y Small Bore Rifle, Team', '50M Rifle Prone (60 Shots)',\n",
       "       '50Y Army Pistol, Team', 'Clay Pigeons, Team', 'Rifle, Team',\n",
       "       'Pairs', 'Special Figures', 'Doubles Indoor', 'Singles Indoor',\n",
       "       '8M Class C', 'Class B Up To 60 Feet', 'Open Class A',\n",
       "       '- 54KG (Bantamweight)', '+ 73KG (Heavyweight)',\n",
       "       '54 - 60.3KG (Featherweight)', '60.3 - 66.6KG (Lightweight)',\n",
       "       '66.6 - 73KG (Middleweight)', '- 66.6KG (Lightweight)',\n",
       "       '+ 93KG (Super Heavyweight)', '73 - 93KG (Light-Heavyweight)',\n",
       "       'Plain High Diving', '4X100M Freestyle Relay', '10000M',\n",
       "       '10000M Walk', '3000M Team', '4X100M Relay',\n",
       "       'Cross Country Individual', 'Cross Country Team',\n",
       "       'Discus Throw, Both Hands', 'Javelin Throw, Both Hands',\n",
       "       'Pentathlon', 'Shot Put, Both Hands', 'Individual Time Trial',\n",
       "       'Team Time Trial', 'Team, Free System', 'Team, Swedish System',\n",
       "       'Individual Competition', 'Coxed Fours Jugriggers', '10M',\n",
       "       '25M Small Bore Rifle, Team', '25M Small Rifle',\n",
       "       '30M Army Pistol, Team', '50M Small Bore Rifle, Team',\n",
       "       '600M Free Rifle', 'Mixed Doubles Indoor',\n",
       "       '- 60KG (Featherweight)', '+ 82.5KG (Super Heavyweight)',\n",
       "       '60 - 67.5KG (Lightweight)', '67.5 - 75KG (Middleweight)',\n",
       "       '75 - 82.5KG (Light-Heavyweight)', 'Fixed Bird Target Large Birds',\n",
       "       'Fixed Bird Target Large Birds Teams',\n",
       "       'Fixed Bird Target Small Bird, Teams',\n",
       "       'Fixed Bird Target Small Birds', 'Moving Bird Target 28M Teams',\n",
       "       'Moving Bird Target 33M Teams', 'Moving Bird Target 50M Teams',\n",
       "       'Moving Bird Target, 28M', 'Moving Bird Target, 33M',\n",
       "       'Moving Bird Target, 50M', '3000M Walk', '- 50.8KG (Flyweight)',\n",
       "       '+ 79.38KG (Heavyweight)', '50.8 - 53.52KG (Bantamweight)',\n",
       "       '53.52 - 57.15KG (Featherweight)', '57.15 - 61.24KG (Lightweight)',\n",
       "       '61.24 - 66.68KG (Welterweight)', '66.68 - 72.57KG (Middleweight)',\n",
       "       '72.57 - 79.38KG (Light-Heavyweight)', '50KM',\n",
       "       'Team Pursuit (4000M)', 'Figure Riding Individual',\n",
       "       'Figure Riding Team', 'Ice Hockey', '10M (Rating 1907)',\n",
       "       '10M (Rating 1919)', '12 Foot Dinghy', '12M (Rating 1907)',\n",
       "       '12M (Rating 1919)', '18 Foot Dinghy', '30M Sq', '40M Sq',\n",
       "       '6.5M (Rating 1919)', '6M (Rating 1907)', '6M (Rating 1919)',\n",
       "       '8M (Rating 1907)', '8M (Rating 1919)',\n",
       "       '100M Running Deer, Double Shots, Team',\n",
       "       '300+600M Free Rifle, Team, Prone', '300M Free Rifle, Prone, Team',\n",
       "       '300M Free Rifle, Standing, Team',\n",
       "       '50M Small Bore Rifle, Standing, Individual',\n",
       "       '600M Free Rifle, Prone', '600M Free Rifle, Team',\n",
       "       '- 60KG, One-Two Hand 3 Events (Featherweight)',\n",
       "       '+ 82.5KG, One-Two Hand 3 Events (Heavyweight)',\n",
       "       '60 - 67.5KG, One-Two Hand 3 Events (Lightweight)',\n",
       "       '67.5 - 75KG, One-Two Hand 3 Events (Middleweight)',\n",
       "       '75 - 82.5KG, One-Two Hand 3 E. (Light-Heavyweight)',\n",
       "       '+ 80KG (Heavyweight)', '75 - 80KG (Light-Heavyweight)',\n",
       "       '+ 82KG (Super Heavyweight)', '75 - 82KG (Light-Heavyweight)',\n",
       "       'Sidehorse Vault', 'Olympic Class Monotype',\n",
       "       '400, 600, 800M Free Rifle, Team', '600M Free Rifle, Individual',\n",
       "       '- 60KG, One-Two Hand 5 Events (Featherweight)',\n",
       "       '+ 82.5KG, One-Two Hand 5 Events (Heavyweight)',\n",
       "       '60 - 67.5KG, One-Two Hand 5 Events (Lightweight)',\n",
       "       '67.5 - 75KG, One-Two Hand 5 Events (Middleweight)',\n",
       "       '75 - 82.5KG, One-Two Hand 5 E. (Light-Heavyweight)',\n",
       "       '- 56KG (Bantamweight)', '+ 87KG (Heavyweight)',\n",
       "       '56 - 61KG (Featherweight)', '61 - 66KG (Lightweight)',\n",
       "       '66 - 72KG (Welterweight)', '72 - 79KG (Middleweight)',\n",
       "       '79 - 87KG (Light-Heavyweight)', '- 58KG (Bantamweight)',\n",
       "       '58 - 62KG (Featherweight)', '62 - 67.5KG (Lightweight)',\n",
       "       '1KM Pursuit', '12 Foot Dinghy Individual',\n",
       "       '- 60KG, Total (Featherweight)', '+ 82.5KG, Total (Heavyweight)',\n",
       "       '60 - 67.5KG, Total (Lightweight)',\n",
       "       '67.5 - 75KG, Total (Middleweight)',\n",
       "       '75 - 82.5KG, Total (Light-Heavyweight)',\n",
       "       '58 - 60KG (Featherweight)', '50KM Walk', '80M Hurdles',\n",
       "       '50.8 - 54KG (Bantamweight)', '54 - 57.15KG (Featherweight)',\n",
       "       'Floor Exercises', 'Indian Clubs', 'Tumbling',\n",
       "       'Two-Person Keelboat Open (Star)', '+ 87KG (Super Heavyweight)',\n",
       "       'Basketball', 'C-1 1000M (Canoe Single)', 'C-2 10000M',\n",
       "       'C-2 1000M (Canoe Double)', 'Folding K-1 10000M',\n",
       "       'Folding K-2 10000M', 'K-1 10000M', 'K-1 1000M (Kayak Single)',\n",
       "       'K-2 10000M', 'K-2 1000M (Kayak Double)', 'Handball',\n",
       "       '- 51KG (Flyweight)', '51 - 54KG (Bantamweight)',\n",
       "       '54 - 58KG (Featherweight)', '58 - 62KG (Lightweight)',\n",
       "       '62 - 67KG (Welterweight)', '67 - 73KG (Middleweight)',\n",
       "       '73 - 80KG (Light-Heavyweight)', 'C-1 10000M',\n",
       "       'K-1 500M (Kayak Single)', 'Dragon', 'Firefly Class',\n",
       "       'Swallow (Golondrina)', '- 56KG, Total (Bantamweight)',\n",
       "       '56 - 60KG, Total (Featherweight)', '- 52KG (Flyweight)',\n",
       "       '52 - 57KG (Bantamweight)', '57 - 63KG (Featherweight)',\n",
       "       '63 - 67KG (Lightweight)', '67 - 73KG (Welterweight)',\n",
       "       '73 - 79KG (Middleweight)', '57 - 61KG (Featherweight)',\n",
       "       '61 - 67KG (Lightweight)', '+ 81KG (Heavyweight)',\n",
       "       '54 - 57KG (Featherweight)', '57 - 60KG (Lightweight)',\n",
       "       '60 - 63.5KG (Light-Welterweight)', '63.5 - 67KG (Welterweight)',\n",
       "       '67 - 71KG (Light-Middleweight)', '71-75KG',\n",
       "       '75 - 81KG (Light-Heavyweight)', 'Balance Beam',\n",
       "       'Team, Portable Apparatus', 'Uneven Bars', '5.5M',\n",
       "       'Single-Handed Dinghy (Finn)',\n",
       "       '100M Running Deer, Single/Double Shots',\n",
       "       '50M Rifle 3 Positions (3X40 Shots)',\n",
       "       '+ 90KG, Total (Heavyweight)',\n",
       "       '82.5 - 90KG, Total (Middle-Heavyweight)', '100M Butterfly',\n",
       "       '200M Butterfly', '20KM Walk', 'Sharpie 12M2',\n",
       "       '4X100M Medley Relay', 'K-1 4X500M', 'K-2 500M (Kayak Double)',\n",
       "       'Flying Dutchman', '400M Individual Medley',\n",
       "       'K-4 1000M (Kayak Four)', 'Individual Pursuit',\n",
       "       '- 68KG (Lightweight)', '68 - 80KG (Middleweight)',\n",
       "       'Open Category', 'Volleyball', '+ 97KG (Heavyweight)',\n",
       "       '63 - 70KG (Lightweight)', '70 - 78KG (Welterweight)',\n",
       "       '78 - 87KG (Middleweight)', '87 - 97KG (Light-Heavyweight)',\n",
       "       '+ 97KG (Super Heavyweight)', '100M Breaststroke',\n",
       "       '200M Individual Medley', '800M Freestyle',\n",
       "       '- 48KG (Light-Flyweight)', '48 - 51KG (Flyweight)',\n",
       "       'Skeet (125 Targets)', 'Individual Fita Round', '100M Hurdles',\n",
       "       'C-1 (Canoe Single)', 'C-2 (Canoe Double)', 'K-1 (Kayak Single)',\n",
       "       '- 63KG (Lightweight)', '+ 93KG (Heavyweight)',\n",
       "       '63 - 70KG (Half-Middleweight)', '70 - 80KG (Middleweight)',\n",
       "       '80 - 93KG (Half-Heavyweight)',\n",
       "       'Fleet/Match Race Keelboat Open (Soling)', 'Tempest',\n",
       "       '50M Running Target (30+30 Shots)', '- 52KG, Total (Flyweight)',\n",
       "       '+ 110KG, Total (Super Heavyweight)',\n",
       "       '52 - 56KG, Total (Bantamweight)',\n",
       "       '91 - 110KG, Total (Heavyweight)', '+ 100KG (Super Heavyweight)',\n",
       "       '48 - 52KG (Flyweight)', '57 - 62KG (Featherweight)',\n",
       "       '62 - 68KG (Lightweight)', '68 - 74KG (Welterweight)',\n",
       "       '74 - 82KG (Middleweight)', '82 - 90KG (Light-Heavyweight)',\n",
       "       '90 - 100KG (Heavyweight)', 'C-1 500M (Canoe Single)',\n",
       "       'C-2 500M (Canoe Double)', 'Pair Without Coxswain (2-)',\n",
       "       'Quadruple Sculls With Coxswain (4X)',\n",
       "       'Quadruple Sculls Without Coxswain (4X)',\n",
       "       '470 - Two Person Dinghy', 'Tornado - Multihull', '- 60 KG',\n",
       "       '+ 95KG (Heavyweight)', '60 - 65KG (Half-Lightweight)',\n",
       "       '65 - 71KG (Lightweight)', '71 - 78KG (Half-Middleweight)',\n",
       "       '78 - 86KG (Middleweight)', '86 - 95KG (Half-Heavyweight)',\n",
       "       '100 - 110KG, Total (Heavyweight)',\n",
       "       '90 - 100KG, Total (First-Heavyweight)', 'Duet', 'Solo', '3000M',\n",
       "       'Heptathlon', '+ 91KG (Super Heavyweight)',\n",
       "       '81 - 91KG (Heavyweight)', 'K-4 500M (Kayak Four)', 'Points Race',\n",
       "       'Board (Windglider)', '10M Air Rifle (40 Shots)',\n",
       "       '10M Air Rifle (60 Shots)', '25M Pistol (30+30 Shots)',\n",
       "       '50M Rifle 3 Positions (3X20 Shots)', '50M Freestyle', 'Sprint',\n",
       "       'Board (Division Ii)', '10M Air Pistol (40 Shots)',\n",
       "       '10M Air Pistol (60 Shots)', '100 - 130KG (Super Heavyweight)',\n",
       "       'Individual (Fita Olympic Round - 70M)',\n",
       "       'Team (Fita Olympic Round - 70M)', 'Baseball',\n",
       "       '- 48KG (Extra-Lightweight)', '+ 72KG (Heavyweight)',\n",
       "       '48 - 52KG (Half-Lightweight)', '52 - 56KG (Lightweight)',\n",
       "       '56 - 61KG (Half-Middleweight)', '61 - 66KG (Middleweight)',\n",
       "       '66 - 72KG (Half-Heavyweight)', 'Coxless Four (4-)',\n",
       "       'Board (Lechner)', 'Single-Handed Dinghy (Europe)',\n",
       "       'Cross-Country', 'Group Competition', '+ 100KG (Heavyweight)',\n",
       "       '60 - 66KG (Half-Lightweight)', '66 - 73KG (Lightweight)',\n",
       "       '73 - 81KG (Half-Middleweight)', '81 - 90KG (Middleweight)',\n",
       "       '90 - 100KG (Half-Heavyweight)', 'Lightweight Coxless Four (4-)',\n",
       "       'Lightweight Double Sculls (2X)', 'Board (Mistral)',\n",
       "       'Single-Handed Dinghy Open (Laser)', 'Double Trap (120 Targets)',\n",
       "       'Double Trap (150 Targets)', 'Softball', 'Beach Volleyball',\n",
       "       '- 54KG, Total (Flyweight)', '+ 108KG, Total (Super Heavyweight)',\n",
       "       '54 - 59KG, Total (Bantamweight)',\n",
       "       '59 - 64KG, Total (Featherweight)',\n",
       "       '64 - 70KG, Total (Lightweight)',\n",
       "       '70 - 76KG, Total (Middleweight)',\n",
       "       '76 - 83KG, Total (Light-Heavyweight)',\n",
       "       '83 - 91KG, Total (Middle-Heavyweight)',\n",
       "       '91 - 99KG, Total (First-Heavyweight)',\n",
       "       '99 - 108KG, Total (Heavyweight)',\n",
       "       'Synchronized Diving 10M Platform',\n",
       "       'Synchronized Diving 3M Springboard', '20KM Race Walk',\n",
       "       '500M Time Trial', 'Keirin', 'Madison', 'Olympic Sprint',\n",
       "       '+ 78KG (Heavyweight)', '52 - 57KG (Lightweight)',\n",
       "       '57 - 63KG (Half-Middleweight)', '63 - 70KG (Middleweight)',\n",
       "       '70 - 78KG (Half-Heavyweight)', '49Er - Skiff',\n",
       "       '10M Running Target (30+30 Shots)', 'Skeet (75 Targets)',\n",
       "       'Trap (75 Targets)', '- 49 KG', '- 58 KG', '+ 67 KG', '+ 80 KG',\n",
       "       '49 - 57 KG', '57 - 67 KG', '58 - 68 KG', '68 - 80 KG', '+ 105KG',\n",
       "       '+ 75KG', '105KG', '48KG', '53KG', '56KG', '58KG', '62KG', '63KG',\n",
       "       '69KG', '75KG', '77KG', '85KG', '94KG', '48 - 54KG', '54 - 58KG',\n",
       "       '58 - 63KG', '63 - 69KG', '69 - 76KG', '76 - 85KG', '85 - 97KG',\n",
       "       '97 - 130KG', '48KG (Light Flywieght)', '60 - 64 KG', '64 - 69 KG',\n",
       "       '69 - 75 KG', 'Team Sprint', '- 48 KG', 'Star - Keelboat',\n",
       "       'Yngling - Keelboat', '- 48KG', '- 55KG', '48 - 55KG', '55 - 60KG',\n",
       "       '55 - 63KG', '60 - 66KG', '63 - 72KG', '66 - 74KG', '74 - 84KG',\n",
       "       '84 - 96KG', '96 - 120KG', 'Marathon 10KM',\n",
       "       'Finn - Heavyweight Dinghy', 'Laser - One Person Dinghy',\n",
       "       'Laser Radial - One Person Dinghy', 'Rs:X - Windsurfer',\n",
       "       'Synchronized 10M', 'Synchronized 3M', '200M Medley',\n",
       "       '400M Medley', '4X100M Freestyle', '4X100M Medley',\n",
       "       '4X200M Freestyle', '3000M Steeple', '+ 91KG', '46 - 49KG',\n",
       "       '51 KG', '52KG', '57 - 60KG', '60 KG', '75 - 81KG', '75 KG',\n",
       "       '81 - 91KG', 'C-1 (Single)', 'C-2 (Double)', 'K-1 (Single)',\n",
       "       'C-1 1000M', 'C-1 200M', 'C-2 1000M', 'K-1 1000M', 'K-1 200M',\n",
       "       'K-1 500M', 'K-2 1000M', 'K-2 200M', 'K-2 500M', 'K-4 1000M',\n",
       "       'K-4 500M', 'Individual Road', 'Time Trial', 'Omnium',\n",
       "       'Team Pursuit', 'Beam', 'Individual All-Around', '+ 100KG',\n",
       "       '+ 78KG', '48 - 52KG', '52 - 57KG', '57 - 63KG', '63 - 70KG',\n",
       "       '66 - 73KG', '70 - 78KG', '73 - 81KG', '81 - 90KG', '90 - 100KG',\n",
       "       'Coxless Four', 'Coxless Pair 2-', 'Double Sculls',\n",
       "       'Eight With Coxswain', 'Lightweight 4', 'Lightweight Doubles',\n",
       "       'Quadruple Sculls', 'Single Sculls', '470', 'Elliott 6M', 'Finn',\n",
       "       'Laser', 'Laser Radial', 'Rs:X', 'Star', '10M Air Pistol',\n",
       "       '10M Air Rifle', '25M Pistol', '25M Rapid Pistol', '50M Pistol',\n",
       "       '50M Rifle 3 Positions', '50M Rifle Prone', 'Double Trap 150',\n",
       "       'Skeet', 'Trap', '+105KG', '+75KG', '-56KG', 'Wf 120KG',\n",
       "       'Wf 48 KG', 'Wf 55 KG', 'Wf 60 KG', 'Wf 63 KG', 'Wf 66 KG',\n",
       "       'Wf 72 KG', 'Wf 74 KG', 'Wf 84 KG', 'Wf 96 KG', 'Wg 120 KG',\n",
       "       'Wg 55 KG', 'Wg 60 KG', 'Wg 66 KG', 'Wg 74 KG', 'Wg 84 KG',\n",
       "       'Wg 96 KG'], dtype=object)"
      ]
     },
     "execution_count": 44,
     "metadata": {},
     "output_type": "execute_result"
    }
   ],
   "source": [
    "df[\"Event\"].unique()"
   ]
  },
  {
   "cell_type": "code",
   "execution_count": 45,
   "metadata": {},
   "outputs": [
    {
     "data": {
      "text/plain": [
       "666"
      ]
     },
     "execution_count": 45,
     "metadata": {},
     "output_type": "execute_result"
    }
   ],
   "source": [
    "len(df[\"Event\"].unique())"
   ]
  },
  {
   "cell_type": "code",
   "execution_count": 102,
   "metadata": {},
   "outputs": [
    {
     "data": {
      "text/plain": [
       "array(['Gold', 'Silver', 'Bronze'], dtype=object)"
      ]
     },
     "execution_count": 102,
     "metadata": {},
     "output_type": "execute_result"
    }
   ],
   "source": [
    "df[\"Medal\"].unique()"
   ]
  },
  {
   "cell_type": "code",
   "execution_count": 48,
   "metadata": {},
   "outputs": [
    {
     "data": {
      "text/plain": [
       "3"
      ]
     },
     "execution_count": 48,
     "metadata": {},
     "output_type": "execute_result"
    }
   ],
   "source": [
    "len(df[\"Medal\"].unique())"
   ]
  },
  {
   "cell_type": "code",
   "execution_count": 50,
   "metadata": {},
   "outputs": [
    {
     "data": {
      "text/plain": [
       "'Silver'"
      ]
     },
     "execution_count": 50,
     "metadata": {},
     "output_type": "execute_result"
    }
   ],
   "source": [
    "df[\"Medal\"].unique().max()"
   ]
  },
  {
   "cell_type": "code",
   "execution_count": 51,
   "metadata": {},
   "outputs": [
    {
     "data": {
      "text/plain": [
       "'Épée, Masters'"
      ]
     },
     "execution_count": 51,
     "metadata": {},
     "output_type": "execute_result"
    }
   ],
   "source": [
    "df[\"Event\"].unique().max()"
   ]
  },
  {
   "cell_type": "code",
   "execution_count": 103,
   "metadata": {},
   "outputs": [
    {
     "data": {
      "text/plain": [
       "array(['HAJOS, Alfred', 'HERSCHMANN, Otto', 'DRIVAS, Dimitrios', ...,\n",
       "       'TOTROV, Rustam', 'ALEKSANYAN, Artur', 'LIDBERG, Jimmy'],\n",
       "      dtype=object)"
      ]
     },
     "execution_count": 103,
     "metadata": {},
     "output_type": "execute_result"
    }
   ],
   "source": [
    "df[\"Athlete\"].unique()"
   ]
  },
  {
   "cell_type": "code",
   "execution_count": null,
   "metadata": {},
   "outputs": [],
   "source": []
  },
  {
   "cell_type": "code",
   "execution_count": null,
   "metadata": {},
   "outputs": [],
   "source": []
  },
  {
   "cell_type": "code",
   "execution_count": 36,
   "metadata": {},
   "outputs": [
    {
     "data": {
      "text/html": [
       "<div>\n",
       "<style scoped>\n",
       "    .dataframe tbody tr th:only-of-type {\n",
       "        vertical-align: middle;\n",
       "    }\n",
       "\n",
       "    .dataframe tbody tr th {\n",
       "        vertical-align: top;\n",
       "    }\n",
       "\n",
       "    .dataframe thead th {\n",
       "        text-align: right;\n",
       "    }\n",
       "</style>\n",
       "<table border=\"1\" class=\"dataframe\">\n",
       "  <thead>\n",
       "    <tr style=\"text-align: right;\">\n",
       "      <th></th>\n",
       "      <th>Year</th>\n",
       "      <th>City</th>\n",
       "      <th>Sport</th>\n",
       "      <th>Discipline</th>\n",
       "      <th>Athlete</th>\n",
       "      <th>Country</th>\n",
       "      <th>Gender</th>\n",
       "      <th>Event</th>\n",
       "      <th>Medal</th>\n",
       "    </tr>\n",
       "  </thead>\n",
       "  <tbody>\n",
       "    <tr>\n",
       "      <th>0</th>\n",
       "      <td>1896</td>\n",
       "      <td>Athens</td>\n",
       "      <td>Aquatics</td>\n",
       "      <td>Swimming</td>\n",
       "      <td>HAJOS, Alfred</td>\n",
       "      <td>HUN</td>\n",
       "      <td>Men</td>\n",
       "      <td>100M Freestyle</td>\n",
       "      <td>Gold</td>\n",
       "    </tr>\n",
       "    <tr>\n",
       "      <th>1</th>\n",
       "      <td>1896</td>\n",
       "      <td>Athens</td>\n",
       "      <td>Aquatics</td>\n",
       "      <td>Swimming</td>\n",
       "      <td>HERSCHMANN, Otto</td>\n",
       "      <td>AUT</td>\n",
       "      <td>Men</td>\n",
       "      <td>100M Freestyle</td>\n",
       "      <td>Silver</td>\n",
       "    </tr>\n",
       "    <tr>\n",
       "      <th>2</th>\n",
       "      <td>1896</td>\n",
       "      <td>Athens</td>\n",
       "      <td>Aquatics</td>\n",
       "      <td>Swimming</td>\n",
       "      <td>DRIVAS, Dimitrios</td>\n",
       "      <td>GRE</td>\n",
       "      <td>Men</td>\n",
       "      <td>100M Freestyle For Sailors</td>\n",
       "      <td>Bronze</td>\n",
       "    </tr>\n",
       "    <tr>\n",
       "      <th>3</th>\n",
       "      <td>1896</td>\n",
       "      <td>Athens</td>\n",
       "      <td>Aquatics</td>\n",
       "      <td>Swimming</td>\n",
       "      <td>MALOKINIS, Ioannis</td>\n",
       "      <td>GRE</td>\n",
       "      <td>Men</td>\n",
       "      <td>100M Freestyle For Sailors</td>\n",
       "      <td>Gold</td>\n",
       "    </tr>\n",
       "    <tr>\n",
       "      <th>4</th>\n",
       "      <td>1896</td>\n",
       "      <td>Athens</td>\n",
       "      <td>Aquatics</td>\n",
       "      <td>Swimming</td>\n",
       "      <td>CHASAPIS, Spiridon</td>\n",
       "      <td>GRE</td>\n",
       "      <td>Men</td>\n",
       "      <td>100M Freestyle For Sailors</td>\n",
       "      <td>Silver</td>\n",
       "    </tr>\n",
       "    <tr>\n",
       "      <th>...</th>\n",
       "      <td>...</td>\n",
       "      <td>...</td>\n",
       "      <td>...</td>\n",
       "      <td>...</td>\n",
       "      <td>...</td>\n",
       "      <td>...</td>\n",
       "      <td>...</td>\n",
       "      <td>...</td>\n",
       "      <td>...</td>\n",
       "    </tr>\n",
       "    <tr>\n",
       "      <th>31160</th>\n",
       "      <td>2012</td>\n",
       "      <td>London</td>\n",
       "      <td>Wrestling</td>\n",
       "      <td>Wrestling Freestyle</td>\n",
       "      <td>JANIKOWSKI, Damian</td>\n",
       "      <td>POL</td>\n",
       "      <td>Men</td>\n",
       "      <td>Wg 84 KG</td>\n",
       "      <td>Bronze</td>\n",
       "    </tr>\n",
       "    <tr>\n",
       "      <th>31161</th>\n",
       "      <td>2012</td>\n",
       "      <td>London</td>\n",
       "      <td>Wrestling</td>\n",
       "      <td>Wrestling Freestyle</td>\n",
       "      <td>REZAEI, Ghasem Gholamreza</td>\n",
       "      <td>IRI</td>\n",
       "      <td>Men</td>\n",
       "      <td>Wg 96 KG</td>\n",
       "      <td>Gold</td>\n",
       "    </tr>\n",
       "    <tr>\n",
       "      <th>31162</th>\n",
       "      <td>2012</td>\n",
       "      <td>London</td>\n",
       "      <td>Wrestling</td>\n",
       "      <td>Wrestling Freestyle</td>\n",
       "      <td>TOTROV, Rustam</td>\n",
       "      <td>RUS</td>\n",
       "      <td>Men</td>\n",
       "      <td>Wg 96 KG</td>\n",
       "      <td>Silver</td>\n",
       "    </tr>\n",
       "    <tr>\n",
       "      <th>31163</th>\n",
       "      <td>2012</td>\n",
       "      <td>London</td>\n",
       "      <td>Wrestling</td>\n",
       "      <td>Wrestling Freestyle</td>\n",
       "      <td>ALEKSANYAN, Artur</td>\n",
       "      <td>ARM</td>\n",
       "      <td>Men</td>\n",
       "      <td>Wg 96 KG</td>\n",
       "      <td>Bronze</td>\n",
       "    </tr>\n",
       "    <tr>\n",
       "      <th>31164</th>\n",
       "      <td>2012</td>\n",
       "      <td>London</td>\n",
       "      <td>Wrestling</td>\n",
       "      <td>Wrestling Freestyle</td>\n",
       "      <td>LIDBERG, Jimmy</td>\n",
       "      <td>SWE</td>\n",
       "      <td>Men</td>\n",
       "      <td>Wg 96 KG</td>\n",
       "      <td>Bronze</td>\n",
       "    </tr>\n",
       "  </tbody>\n",
       "</table>\n",
       "<p>31165 rows × 9 columns</p>\n",
       "</div>"
      ],
      "text/plain": [
       "       Year    City      Sport           Discipline  \\\n",
       "0      1896  Athens   Aquatics             Swimming   \n",
       "1      1896  Athens   Aquatics             Swimming   \n",
       "2      1896  Athens   Aquatics             Swimming   \n",
       "3      1896  Athens   Aquatics             Swimming   \n",
       "4      1896  Athens   Aquatics             Swimming   \n",
       "...     ...     ...        ...                  ...   \n",
       "31160  2012  London  Wrestling  Wrestling Freestyle   \n",
       "31161  2012  London  Wrestling  Wrestling Freestyle   \n",
       "31162  2012  London  Wrestling  Wrestling Freestyle   \n",
       "31163  2012  London  Wrestling  Wrestling Freestyle   \n",
       "31164  2012  London  Wrestling  Wrestling Freestyle   \n",
       "\n",
       "                         Athlete Country Gender                       Event  \\\n",
       "0                  HAJOS, Alfred     HUN    Men              100M Freestyle   \n",
       "1               HERSCHMANN, Otto     AUT    Men              100M Freestyle   \n",
       "2              DRIVAS, Dimitrios     GRE    Men  100M Freestyle For Sailors   \n",
       "3             MALOKINIS, Ioannis     GRE    Men  100M Freestyle For Sailors   \n",
       "4             CHASAPIS, Spiridon     GRE    Men  100M Freestyle For Sailors   \n",
       "...                          ...     ...    ...                         ...   \n",
       "31160         JANIKOWSKI, Damian     POL    Men                    Wg 84 KG   \n",
       "31161  REZAEI, Ghasem Gholamreza     IRI    Men                    Wg 96 KG   \n",
       "31162             TOTROV, Rustam     RUS    Men                    Wg 96 KG   \n",
       "31163          ALEKSANYAN, Artur     ARM    Men                    Wg 96 KG   \n",
       "31164             LIDBERG, Jimmy     SWE    Men                    Wg 96 KG   \n",
       "\n",
       "        Medal  \n",
       "0        Gold  \n",
       "1      Silver  \n",
       "2      Bronze  \n",
       "3        Gold  \n",
       "4      Silver  \n",
       "...       ...  \n",
       "31160  Bronze  \n",
       "31161    Gold  \n",
       "31162  Silver  \n",
       "31163  Bronze  \n",
       "31164  Bronze  \n",
       "\n",
       "[31165 rows x 9 columns]"
      ]
     },
     "execution_count": 36,
     "metadata": {},
     "output_type": "execute_result"
    }
   ],
   "source": [
    "df"
   ]
  },
  {
   "cell_type": "code",
   "execution_count": 53,
   "metadata": {},
   "outputs": [
    {
     "data": {
      "text/html": [
       "<div>\n",
       "<style scoped>\n",
       "    .dataframe tbody tr th:only-of-type {\n",
       "        vertical-align: middle;\n",
       "    }\n",
       "\n",
       "    .dataframe tbody tr th {\n",
       "        vertical-align: top;\n",
       "    }\n",
       "\n",
       "    .dataframe thead th {\n",
       "        text-align: right;\n",
       "    }\n",
       "</style>\n",
       "<table border=\"1\" class=\"dataframe\">\n",
       "  <thead>\n",
       "    <tr style=\"text-align: right;\">\n",
       "      <th></th>\n",
       "      <th>Year</th>\n",
       "      <th>City</th>\n",
       "      <th>Sport</th>\n",
       "      <th>Discipline</th>\n",
       "      <th>Athlete</th>\n",
       "      <th>Country</th>\n",
       "      <th>Gender</th>\n",
       "      <th>Event</th>\n",
       "      <th>Medal</th>\n",
       "    </tr>\n",
       "  </thead>\n",
       "  <tbody>\n",
       "    <tr>\n",
       "      <th>0</th>\n",
       "      <td>1896</td>\n",
       "      <td>Athens</td>\n",
       "      <td>Aquatics</td>\n",
       "      <td>Swimming</td>\n",
       "      <td>HAJOS, Alfred</td>\n",
       "      <td>HUN</td>\n",
       "      <td>Men</td>\n",
       "      <td>100M Freestyle</td>\n",
       "      <td>Gold</td>\n",
       "    </tr>\n",
       "    <tr>\n",
       "      <th>1</th>\n",
       "      <td>1896</td>\n",
       "      <td>Athens</td>\n",
       "      <td>Aquatics</td>\n",
       "      <td>Swimming</td>\n",
       "      <td>HERSCHMANN, Otto</td>\n",
       "      <td>AUT</td>\n",
       "      <td>Men</td>\n",
       "      <td>100M Freestyle</td>\n",
       "      <td>Silver</td>\n",
       "    </tr>\n",
       "    <tr>\n",
       "      <th>2</th>\n",
       "      <td>1896</td>\n",
       "      <td>Athens</td>\n",
       "      <td>Aquatics</td>\n",
       "      <td>Swimming</td>\n",
       "      <td>DRIVAS, Dimitrios</td>\n",
       "      <td>GRE</td>\n",
       "      <td>Men</td>\n",
       "      <td>100M Freestyle For Sailors</td>\n",
       "      <td>Bronze</td>\n",
       "    </tr>\n",
       "    <tr>\n",
       "      <th>3</th>\n",
       "      <td>1896</td>\n",
       "      <td>Athens</td>\n",
       "      <td>Aquatics</td>\n",
       "      <td>Swimming</td>\n",
       "      <td>MALOKINIS, Ioannis</td>\n",
       "      <td>GRE</td>\n",
       "      <td>Men</td>\n",
       "      <td>100M Freestyle For Sailors</td>\n",
       "      <td>Gold</td>\n",
       "    </tr>\n",
       "    <tr>\n",
       "      <th>4</th>\n",
       "      <td>1896</td>\n",
       "      <td>Athens</td>\n",
       "      <td>Aquatics</td>\n",
       "      <td>Swimming</td>\n",
       "      <td>CHASAPIS, Spiridon</td>\n",
       "      <td>GRE</td>\n",
       "      <td>Men</td>\n",
       "      <td>100M Freestyle For Sailors</td>\n",
       "      <td>Silver</td>\n",
       "    </tr>\n",
       "  </tbody>\n",
       "</table>\n",
       "</div>"
      ],
      "text/plain": [
       "   Year    City     Sport Discipline             Athlete Country Gender  \\\n",
       "0  1896  Athens  Aquatics   Swimming       HAJOS, Alfred     HUN    Men   \n",
       "1  1896  Athens  Aquatics   Swimming    HERSCHMANN, Otto     AUT    Men   \n",
       "2  1896  Athens  Aquatics   Swimming   DRIVAS, Dimitrios     GRE    Men   \n",
       "3  1896  Athens  Aquatics   Swimming  MALOKINIS, Ioannis     GRE    Men   \n",
       "4  1896  Athens  Aquatics   Swimming  CHASAPIS, Spiridon     GRE    Men   \n",
       "\n",
       "                        Event   Medal  \n",
       "0              100M Freestyle    Gold  \n",
       "1              100M Freestyle  Silver  \n",
       "2  100M Freestyle For Sailors  Bronze  \n",
       "3  100M Freestyle For Sailors    Gold  \n",
       "4  100M Freestyle For Sailors  Silver  "
      ]
     },
     "execution_count": 53,
     "metadata": {},
     "output_type": "execute_result"
    }
   ],
   "source": [
    "df.head()"
   ]
  },
  {
   "cell_type": "markdown",
   "metadata": {},
   "source": [
    "### In how many cities Summer Olympics is held so far?"
   ]
  },
  {
   "cell_type": "code",
   "execution_count": 58,
   "metadata": {},
   "outputs": [
    {
     "data": {
      "text/plain": [
       "22"
      ]
     },
     "execution_count": 58,
     "metadata": {},
     "output_type": "execute_result"
    }
   ],
   "source": [
    "len(df[\"City\"].unique())"
   ]
  },
  {
   "cell_type": "markdown",
   "metadata": {},
   "source": [
    "### Which sport is having most number of Gold Medals so far?(top5)"
   ]
  },
  {
   "cell_type": "code",
   "execution_count": 117,
   "metadata": {},
   "outputs": [],
   "source": [
    "data = df.values   "
   ]
  },
  {
   "cell_type": "code",
   "execution_count": 140,
   "metadata": {},
   "outputs": [
    {
     "ename": "TypeError",
     "evalue": "append() takes exactly one argument (2 given)",
     "output_type": "error",
     "traceback": [
      "\u001b[1;31m---------------------------------------------------------------------------\u001b[0m",
      "\u001b[1;31mTypeError\u001b[0m                                 Traceback (most recent call last)",
      "\u001b[1;32m<ipython-input-140-11b5ef82cd27>\u001b[0m in \u001b[0;36m<module>\u001b[1;34m\u001b[0m\n\u001b[0;32m      5\u001b[0m         \u001b[1;32mif\u001b[0m \u001b[1;33m(\u001b[0m\u001b[0mdata\u001b[0m\u001b[1;33m[\u001b[0m\u001b[0mi\u001b[0m\u001b[1;33m]\u001b[0m\u001b[1;33m[\u001b[0m\u001b[1;36m8\u001b[0m\u001b[1;33m]\u001b[0m \u001b[1;33m==\u001b[0m \u001b[1;34m\"Gold\"\u001b[0m\u001b[1;33m)\u001b[0m\u001b[1;33m:\u001b[0m\u001b[1;33m\u001b[0m\u001b[1;33m\u001b[0m\u001b[0m\n\u001b[0;32m      6\u001b[0m             \u001b[0mGold_count\u001b[0m \u001b[1;33m+=\u001b[0m\u001b[1;36m1\u001b[0m\u001b[1;33m\u001b[0m\u001b[1;33m\u001b[0m\u001b[0m\n\u001b[1;32m----> 7\u001b[1;33m     \u001b[0mlst\u001b[0m\u001b[1;33m.\u001b[0m\u001b[0mappend\u001b[0m\u001b[1;33m(\u001b[0m\u001b[0mSport\u001b[0m\u001b[1;33m,\u001b[0m \u001b[0mGold_count\u001b[0m\u001b[1;33m)\u001b[0m\u001b[1;33m\u001b[0m\u001b[1;33m\u001b[0m\u001b[0m\n\u001b[0m",
      "\u001b[1;31mTypeError\u001b[0m: append() takes exactly one argument (2 given)"
     ]
    }
   ],
   "source": [
    "lst = []\n",
    "for Sport in df[\"Sport\"].unique():\n",
    "    Gold_count = 0\n",
    "    for i in range(len(data)):\n",
    "        if (data[i][8] == \"Gold\"):\n",
    "            Gold_count +=1\n",
    "    lst.append(Sport)"
   ]
  },
  {
   "cell_type": "code",
   "execution_count": 139,
   "metadata": {},
   "outputs": [
    {
     "data": {
      "text/plain": [
       "['Aquatics',\n",
       " 'Athletics',\n",
       " 'Cycling',\n",
       " 'Fencing',\n",
       " 'Gymnastics',\n",
       " 'Shooting',\n",
       " 'Tennis',\n",
       " 'Weightlifting',\n",
       " 'Wrestling',\n",
       " 'Archery',\n",
       " 'Basque Pelota',\n",
       " 'Cricket',\n",
       " 'Croquet',\n",
       " 'Equestrian',\n",
       " 'Football',\n",
       " 'Golf',\n",
       " 'Polo',\n",
       " 'Rowing',\n",
       " 'Rugby',\n",
       " 'Sailing',\n",
       " 'Tug of War',\n",
       " 'Boxing',\n",
       " 'Lacrosse',\n",
       " 'Roque',\n",
       " 'Hockey',\n",
       " 'Jeu de paume',\n",
       " 'Rackets',\n",
       " 'Skating',\n",
       " 'Water Motorsports',\n",
       " 'Modern Pentathlon',\n",
       " 'Ice Hockey',\n",
       " 'Basketball',\n",
       " 'Canoe / Kayak',\n",
       " 'Handball',\n",
       " 'Judo',\n",
       " 'Volleyball',\n",
       " 'Table Tennis',\n",
       " 'Badminton',\n",
       " 'Baseball',\n",
       " 'Softball',\n",
       " 'Taekwondo',\n",
       " 'Triathlon',\n",
       " 'Canoe']"
      ]
     },
     "execution_count": 139,
     "metadata": {},
     "output_type": "execute_result"
    }
   ],
   "source": [
    "lst"
   ]
  },
  {
   "cell_type": "code",
   "execution_count": null,
   "metadata": {},
   "outputs": [],
   "source": []
  },
  {
   "cell_type": "code",
   "execution_count": null,
   "metadata": {},
   "outputs": [],
   "source": []
  },
  {
   "cell_type": "code",
   "execution_count": null,
   "metadata": {},
   "outputs": [],
   "source": []
  },
  {
   "cell_type": "code",
   "execution_count": null,
   "metadata": {},
   "outputs": [],
   "source": []
  },
  {
   "cell_type": "code",
   "execution_count": null,
   "metadata": {},
   "outputs": [],
   "source": []
  },
  {
   "cell_type": "code",
   "execution_count": null,
   "metadata": {},
   "outputs": [],
   "source": []
  },
  {
   "cell_type": "code",
   "execution_count": null,
   "metadata": {},
   "outputs": [],
   "source": []
  },
  {
   "cell_type": "code",
   "execution_count": null,
   "metadata": {},
   "outputs": [],
   "source": []
  },
  {
   "cell_type": "code",
   "execution_count": null,
   "metadata": {},
   "outputs": [],
   "source": []
  },
  {
   "cell_type": "code",
   "execution_count": null,
   "metadata": {},
   "outputs": [],
   "source": []
  },
  {
   "cell_type": "code",
   "execution_count": null,
   "metadata": {},
   "outputs": [],
   "source": []
  },
  {
   "cell_type": "code",
   "execution_count": null,
   "metadata": {},
   "outputs": [],
   "source": []
  },
  {
   "cell_type": "code",
   "execution_count": 95,
   "metadata": {},
   "outputs": [],
   "source": []
  },
  {
   "cell_type": "code",
   "execution_count": null,
   "metadata": {},
   "outputs": [],
   "source": []
  },
  {
   "cell_type": "code",
   "execution_count": null,
   "metadata": {},
   "outputs": [],
   "source": []
  }
 ],
 "metadata": {
  "kernelspec": {
   "display_name": "Python 3",
   "language": "python",
   "name": "python3"
  },
  "language_info": {
   "codemirror_mode": {
    "name": "ipython",
    "version": 3
   },
   "file_extension": ".py",
   "mimetype": "text/x-python",
   "name": "python",
   "nbconvert_exporter": "python",
   "pygments_lexer": "ipython3",
   "version": "3.8.3"
  }
 },
 "nbformat": 4,
 "nbformat_minor": 4
}
